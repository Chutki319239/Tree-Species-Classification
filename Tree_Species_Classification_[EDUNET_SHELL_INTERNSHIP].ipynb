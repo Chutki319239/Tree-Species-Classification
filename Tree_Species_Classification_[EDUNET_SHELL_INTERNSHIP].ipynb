{
  "nbformat": 4,
  "nbformat_minor": 0,
  "metadata": {
    "colab": {
      "provenance": [],
      "authorship_tag": "ABX9TyN/oBqI8zLkgTE0JkrRhiBk",
      "include_colab_link": true
    },
    "kernelspec": {
      "name": "python3",
      "display_name": "Python 3"
    },
    "language_info": {
      "name": "python"
    }
  },
  "cells": [
    {
      "cell_type": "markdown",
      "metadata": {
        "id": "view-in-github",
        "colab_type": "text"
      },
      "source": [
        "<a href=\"https://colab.research.google.com/github/Chutki319239/Tree-Species-Classification/blob/main/Tree_Species_Classification_%5BEDUNET_SHELL_INTERNSHIP%5D.ipynb\" target=\"_parent\"><img src=\"https://colab.research.google.com/assets/colab-badge.svg\" alt=\"Open In Colab\"/></a>"
      ]
    },
    {
      "cell_type": "code",
      "execution_count": null,
      "metadata": {
        "id": "8zYhIRljI7YK",
        "colab": {
          "base_uri": "https://localhost:8080/"
        },
        "outputId": "0f6330e6-9a9e-4da8-a8f6-b50cc89efb51"
      },
      "outputs": [
        {
          "output_type": "stream",
          "name": "stdout",
          "text": [
            "Mounted at /content/drive\n"
          ]
        }
      ],
      "source": [
        "from google.colab import drive\n",
        "drive.mount('/content/drive')"
      ]
    },
    {
      "cell_type": "code",
      "source": [
        "!ls -l \"/content/drive/MyDrive\"\n"
      ],
      "metadata": {
        "id": "j7UawLQVBmtG",
        "colab": {
          "base_uri": "https://localhost:8080/"
        },
        "outputId": "8413976e-c01c-41c6-e1ed-8945c08d0382"
      },
      "execution_count": null,
      "outputs": [
        {
          "output_type": "stream",
          "name": "stdout",
          "text": [
            "total 564820\n",
            "-rw------- 1 root root    447793 Jul 31  2024 '23MCB0025 (1).pdf'\n",
            "-rw------- 1 root root    451093 Jul 31  2024 '23MCB0025 (1).pdf.docx'\n",
            "-rw------- 1 root root    316058 Jul 31  2024 '23MCB0025_COA_TH (1).pdf'\n",
            "-rw------- 1 root root    316058 Jul 31  2024  23MCB0025_COA_TH.pdf\n",
            "-rw------- 1 root root    332219 Jul 31  2024 '23MCB0025_LA5 (1).pdf'\n",
            "-rw------- 1 root root    332219 Jul 31  2024  23MCB0025_LA5.pdf\n",
            "-rw------- 1 root root    447793 Jul 31  2024  23MCB0025.pdf\n",
            "-rw------- 1 root root    451093 Jul 31  2024  23MCB0025.pdf.docx\n",
            "-rw------- 1 root root    387428 Jul 31  2024 '23MCB0025_VUSALA_SRI_SAI_PRAVALLIKA_SET (1).docx'\n",
            "-rw------- 1 root root    402601 Jul 31  2024 '23MCB0025_VUSALA_SRI_SAI_PRAVALLIKA_SET (1).pdf'\n",
            "-rw------- 1 root root    387428 Jul 31  2024  23MCB0025_VUSALA_SRI_SAI_PRAVALLIKA_SET.docx\n",
            "-rw------- 1 root root    402601 Jul 31  2024  23MCB0025_VUSALA_SRI_SAI_PRAVALLIKA_SET.pdf\n",
            "-rw------- 1 root root    387381 Jul 31  2024 '23MCB0025_VUSALA_SRI_SAI_PRAVALLIKA_SET REV (1).docx'\n",
            "-rw------- 1 root root    387381 Jul 31  2024 '23MCB0025_VUSALA_SRI_SAI_PRAVALLIKA_SET REV.docx'\n",
            "-rw------- 1 root root    580789 Jul 11  2024 'A2305223477_Vusala Akanksha.pdf'\n",
            "-rw------- 1 root root     24308 Jul 31  2024 'Abstract-SET_PRAVALLIKA (1).docx'\n",
            "-rw------- 1 root root     24308 Jul 31  2024  Abstract-SET_PRAVALLIKA.docx\n",
            "-rw------- 1 root root       182 Oct  3  2024 'AI-ML NOTES.gdoc'\n",
            "drwx------ 2 root root      4096 Oct  7  2022  AMRITSAR-LEH-LADAKH\n",
            "-rw------- 1 root root    344187 Apr 17 11:43 'APPLICATION FORM AND UNDERTAKING (2).pdf'\n",
            "drwx------ 2 root root      4096 Jul 26 09:19  archive1\n",
            "-rw------- 1 root root     41988 Feb 18 07:13 'Assignment - 2.docx'\n",
            "-rw------- 1 root root      8778 Jul 31  2024 'boats (1).xlsx'\n",
            "-rw------- 1 root root      8778 Jul 31  2024  boats.xlsx\n",
            "-rw------- 1 root root     35504 Dec  6  2024  bp-1.pdf\n",
            "-rw------- 1 root root       182 Jul 24 01:27 'Building a Better Experience — One Habit at a Time .gform'\n",
            "-rw------- 1 root root     72026 Apr 17 08:14 'chiinu_lor (1).pdf'\n",
            "-rw------- 1 root root     72026 Apr 17 08:14  chiinu_lor.pdf\n",
            "drwx------ 2 root root      4096 Aug 27  2023  Classroom\n",
            "drwx------ 2 root root      4096 Aug  8  2024 'Colab Notebooks'\n",
            "-rw------- 1 root root    208355 Sep 25  2024 'Copy of ML MODEL [SEASON OF AI WEEK 2].ipynb'\n",
            "-rw------- 1 root root    435070 Sep 13  2023 'C PROGRAMMING ASSIGNMENT 1 [VUSALA AKANKSHA]1CSE7Y.docx'\n",
            "lrw------- 1 root root         0 Sep 14  2023 'C PROGRAMMING ASSIGNMENT 2 [VUSALA AKANKSHA] 1CSE7Y (1).gdoc' -> '/content/drive/ '\n",
            "-rw------- 1 root root   2013172 Oct  6  2023 'C PROGRAMMING ASSIGNMENT 2 [VUSALA AKANKSHA] 1CSE7Y.docx'\n",
            "lrw------- 1 root root         0 Sep 14  2023 'C PROGRAMMING ASSIGNMENT 2 [VUSALA AKANKSHA] 1CSE7Y.gdoc' -> '/content/drive/ '\n",
            "-rw------- 1 root root    792146 Nov  2  2023 'C PROGRAMMING ASSIGNMENT 2 -VUSALA AKANKSHA- 1CSE7Y.pdf'\n",
            "-rw------- 1 root root   1844162 Sep 30  2024 'Cream and Yellow Illustrated Happy Ganesh Chaturthi Instagram Story.png'\n",
            "-rw------- 1 root root    186248 Jul 31  2024 'C_WmX67XoAENbFp (1) (1).jpg_large'\n",
            "-rw------- 1 root root    186248 Jul 31  2024 'C_WmX67XoAENbFp (1).jpg_large'\n",
            "-rw------- 1 root root    186248 Jul 31  2024 'C_WmX67XoAENbFp (2).jpg_large'\n",
            "-rw------- 1 root root    186248 Jul 31  2024  C_WmX67XoAENbFp.jpg_large\n",
            "-rw------- 1 root root     22905 May 20 13:07 'Data Preprocessing2.ipynb'\n",
            "drwx------ 2 root root      4096 Aug  8  2024 'data science'\n",
            "-rw------- 1 root root      9209 Jul 31  2024 'dependant (1).xlsx'\n",
            "-rw------- 1 root root      9209 Jul 31  2024  dependant.xlsx\n",
            "-rw------- 1 root root    376338 Mar 22  2024  DOC-20240320-WA0005..pdf\n",
            "-rw------- 1 root root     10467 Jul 31  2024 'employee (1).xlsx'\n",
            "-rw------- 1 root root     10467 Jul 31  2024  employee.xlsx\n",
            "-rw------- 1 root root       182 Nov 22  2023 'END SEMESTER EXAMINATION.gdoc'\n",
            "-rw------- 1 root root  10137520 Jun 26 08:54  ezyZip.mp4\n",
            "-rw------- 1 root root       182 Jul 19 10:44 'Feedback form .gform'\n",
            "-rw------- 1 root root       182 Nov 27  2023 'final list .gdoc'\n",
            "-rw------- 1 root root   1459142 Jul 31  2024 'HEI-Exempted-U-0497_SelfLearning_20220531171724 (1).pdf'\n",
            "-rw------- 1 root root   1459142 Jul 31  2024  HEI-Exempted-U-0497_SelfLearning_20220531171724.pdf\n",
            "-rw------- 1 root root       182 Feb  4  2024 'HISTORY ASSIGNMENT.gdoc'\n",
            "-rw------- 1 root root   1038360 Apr 14 06:25 'ID CARD AMITY.pdf'\n",
            "-rw------- 1 root root    333999 Jul 31  2024 'IGNTU-eContent-375577792959-BA-AIHC-6-DrJanardhanaB-ScienceandTechnologyinAncientIndia-4 (1).pdf'\n",
            "-rw------- 1 root root    333999 Jul 31  2024  IGNTU-eContent-375577792959-BA-AIHC-6-DrJanardhanaB-ScienceandTechnologyinAncientIndia-4.pdf\n",
            "-rw------- 1 root root    415758 Jul 31  2024 'la4 (1).pdf'\n",
            "-rw------- 1 root root    415758 Jul 31  2024  la4.pdf\n",
            "-rw------- 1 root root    381410 Jul 31  2024 'LA5 (1).pdf'\n",
            "-rw------- 1 root root    381410 Jul 31  2024  LA5.pdf\n",
            "-rw------- 1 root root       643 Jul 31  2024 'LA5_PiPROGRAM_23MCB0025 (1).zip'\n",
            "-rw------- 1 root root       643 Jul 31  2024  LA5_PiPROGRAM_23MCB0025.zip\n",
            "-rw------- 1 root root       182 Nov 25  2023 'list of feedback pre exam  (1).gdoc'\n",
            "-rw------- 1 root root       182 Nov 25  2023 'list of feedback pre exam .gdoc'\n",
            "-rw------- 1 root root   8332086 Apr 17 11:41  LORNOC.pdf\n",
            "drwx------ 2 root root      4096 Dec 11  2024 'Madhu Mams Gruhapravesam'\n",
            "-rw------- 1 root root      8538 May  9  2024 'mdd-bfna-sgb - May 9, 2024.pdf'\n",
            "-rw------- 1 root root       182 Oct 13  2023 'MINORS 🥲.gdoc'\n",
            "-rw------- 1 root root    478353 Aug 13  2024 'MLSC AI_ML SESSION 1 NOTES [13_08_24]-compressed.pdf'\n",
            "-rw------- 1 root root    431154 Sep 10  2024 'MLSC AI_ML SESSION 3 NOTES[10_09_24]-compressed.pdf'\n",
            "-rw------- 1 root root       182 Dec 10  2023 'Module 2 Basic programming Part 1.gdoc'\n",
            "drwx------ 2 root root      4096 Dec 10  2023 'Module 2.zip (Unzipped Files)'\n",
            "-rw------- 1 root root  82555450 Apr 26 06:21  MOV05111.AVI\n",
            "-rw------- 1 root root       182 Jun  5  2023 'My First Spreadsheet.gsheet'\n",
            "-rw------- 1 root root     54187 Jul 31  2024 'new doc 2021-09-22 20.18.18 (1).pdf'\n",
            "-rw------- 1 root root     54187 Jul 31  2024 'new doc 2021-09-22 20.18.18.pdf'\n",
            "-rw------- 1 root root     91241 Jul 31  2024 'new doc 2023-07-23 18.44.31 (1).pdf'\n",
            "-rw------- 1 root root     91241 Jul 31  2024 'new doc 2023-07-23 18.44.31.pdf'\n",
            "-rw------- 1 root root    537292 Jul 31  2024 'opm_lab1 (1).pdf'\n",
            "-rw------- 1 root root    537292 Jul 31  2024  opm_lab1.pdf\n",
            "-rw------- 1 root root   2006054 Jul 31  2024 'opm_lab2 (1).pdf'\n",
            "-rw------- 1 root root   2006054 Jul 31  2024  opm_lab2.pdf\n",
            "-rw------- 1 root root   2800289 Jul 31  2024 'opm_lab_final (1).pdf'\n",
            "-rw------- 1 root root   2800289 Jul 31  2024  opm_lab_final.pdf\n",
            "-rw------- 1 root root       182 Jan 25  2025 'Order Form.gform'\n",
            "-rw------- 1 root root     95381 Apr 23 07:47  OS.pdf\n",
            "-rw------- 1 root root       182 Dec 10  2023 'part 4-1.gdoc'\n",
            "-rw------- 1 root root       182 Dec 10  2023 'part 4-2.gdoc'\n",
            "-rw------- 1 root root    366586 Jul 31  2024 'Payment Status (1).pdf'\n",
            "-rw------- 1 root root    366586 Jul 31  2024 'Payment Status.pdf'\n",
            "-rw------- 1 root root   5129091 Jul  4 10:21 'Phir Bhi Shukriya.mp3'\n",
            "-rw------- 1 root root    215841 Dec  1  2023  pour-toi-mon-amour-fiche_231129_132149_copy.pdf\n",
            "-rw------- 1 root root       182 Dec 10  2023 'practice problems.gslides'\n",
            "-rw------- 1 root root       182 Jul 16 15:32 'PRISM-AI Mentorship Program – Section B Responses.gdoc'\n",
            "-rw------- 1 root root     37045 Apr 13 09:25  Profile.pdf\n",
            "-rw------- 1 root root      8788 Jul 31  2024 'reserves (1).xlsx'\n",
            "-rw------- 1 root root      8788 Jul 31  2024  reserves.xlsx\n",
            "-rw------- 1 root root    788257 Jul 28 14:25 'RESUME (1) (1).pdf'\n",
            "-rw------- 1 root root    879509 Jul 21 16:36  RESUME.docx\n",
            "-rw------- 1 root root       182 Jul 23 11:18  RESUME.gdoc\n",
            "-rw------- 1 root root   1417784 Jul 20 15:10  RESUME.pdf\n",
            "-rw------- 1 root root      8882 Jul 31  2024 'sailors (1).xlsx'\n",
            "-rw------- 1 root root      8882 Jul 31  2024  sailors.xlsx\n",
            "drwx------ 2 root root      4096 Jan 29  2023  Sangeet\n",
            "-rw------- 1 root root    419663 Jul 24 09:45  SAVE_20250724_151521.jpg\n",
            "-rw------- 1 root root   1364147 Sep 27  2024 'SEASON OF AI [WEEK 2 NOTES]-compressed.pdf'\n",
            "-rw------- 1 root root    717111 Oct  5  2024 'SEASON OF AI [WEEK 3 NOTES]-compressed.pdf'\n",
            "-rw------- 1 root root    709632 Oct 19  2024 'SEASON OF AI [WEEK 5 NOTES]-compressed.pdf'\n",
            "-rw------- 1 root root    505257 Mar  7  2024 'Semester 2 Updated notes..docx'\n",
            "drwx------ 2 root root      4096 May 10  2023  Snaps\n",
            "drwx------ 2 root root      4096 Jan 25  2023 'Sruti Akka Wedding'\n",
            "-rw------- 1 root root       182 Jun  5  2023 'Statistics 1 Wk 1 FAQ.gdoc'\n",
            "-rw------- 1 root root       182 Oct  6  2023 'TECHNICAL COMMUNICATION PRESENTATION.gdoc'\n",
            "-rw------- 1 root root 127725528 Jul 26 09:38  tree_species_model.h5\n",
            "-rw------- 1 root root 127723295 Jul 26 09:40  tree_species_model.keras\n",
            "-rw------- 1 root root       182 Dec 15  2023 'Untitled document (1).gdoc'\n",
            "-rw------- 1 root root       182 Dec 13  2023 'Untitled document (2).gdoc'\n",
            "-rw------- 1 root root       182 Nov 30  2023 'Untitled document (3).gdoc'\n",
            "-rw------- 1 root root       182 Nov 30  2023 'Untitled document (4).gdoc'\n",
            "-rw------- 1 root root       182 Nov 29  2023 'Untitled document (5).gdoc'\n",
            "-rw------- 1 root root       182 Nov 20  2023 'Untitled document (6).gdoc'\n",
            "-rw------- 1 root root       182 Nov 16  2023 'Untitled document (7).gdoc'\n",
            "-rw------- 1 root root       182 Nov 16  2023 'Untitled document (8).gdoc'\n",
            "-rw------- 1 root root       182 Sep 14  2023 'Untitled document (9).gdoc'\n",
            "-rw------- 1 root root       182 Mar  3  2024 'Untitled document.gdoc'\n",
            "-rw------- 1 root root       182 Apr 29  2024 'Untitled document - Line chart 1.gsheet'\n",
            "-rw------- 1 root root       182 Jan 25  2025 'Untitled form (1).gform'\n",
            "drwx------ 2 root root      4096 Jan 25  2025 'Untitled form (File responses)'\n",
            "-rw------- 1 root root       182 Feb 26 16:43 'Untitled form.gform'\n",
            "-rw------- 1 root root       182 Nov 25  2023 'update 2 of feeedback post (1).gdoc'\n",
            "-rw------- 1 root root       182 Nov 25  2023 'update 2 of feeedback post.gdoc'\n",
            "-rw------- 1 root root    384744 Apr 14  2024 'Updated_Questions Bank  AM-II_MATH122_copy.pdf'\n",
            "-rw------- 1 root root  55513221 Mar  9 14:47  VID_20250227_153339.mp4\n",
            "-rw------- 1 root root  27588665 Mar  3 12:02  VID_20250227_153750.mp4\n",
            "-rw------- 1 root root  54806193 Mar  3 12:02  VID_20250227_161937.mp4\n",
            "-rw------- 1 root root  35821292 Mar 24 14:39 'Video from Akanksha. V'\n",
            "-rw------- 1 root root       182 Oct 13  2023 'VUSALA AKANKSHA CPROGRAMMING ASSIGNMENT[PATTERN PRINTING] 13.10.23.gdoc'\n",
            "-rw------- 1 root root    148060 Jul 24 09:47 'VusalaAkanksha_Image1 (1).jpeg'\n",
            "-rw------- 1 root root    148060 Jul 24 09:47  VusalaAkanksha_Image1.jpeg\n",
            "-rw------- 1 root root   2784698 Jul 24 09:56  VusalaAkanksha_Image2.png\n",
            "-rw------- 1 root root    237962 Nov 27  2024 'Vusala Akanksha.jpeg'\n",
            "-rw------- 1 root root     78820 Jul  4 17:43 'VUSALA AKANKSHA.pdf'\n"
          ]
        }
      ]
    },
    {
      "cell_type": "code",
      "source": [
        "!mv \"/content/drive/MyDrive/archive (1)\" \"/content/drive/MyDrive/archive1\"\n"
      ],
      "metadata": {
        "id": "60Lb5vDcB46m",
        "colab": {
          "base_uri": "https://localhost:8080/"
        },
        "outputId": "c2176c37-0530-4303-bd2e-58a2687bddee"
      },
      "execution_count": null,
      "outputs": [
        {
          "output_type": "stream",
          "name": "stdout",
          "text": [
            "mv: cannot stat '/content/drive/MyDrive/archive (1)': No such file or directory\n"
          ]
        }
      ]
    },
    {
      "cell_type": "code",
      "source": [
        "!ls -l \"/content/drive/MyDrive\"\n"
      ],
      "metadata": {
        "id": "S9rU5XWWB6tM",
        "colab": {
          "base_uri": "https://localhost:8080/"
        },
        "outputId": "61545952-4ea2-453f-bee4-e68d2da26be0"
      },
      "execution_count": null,
      "outputs": [
        {
          "output_type": "stream",
          "name": "stdout",
          "text": [
            "total 564820\n",
            "-rw------- 1 root root    447793 Jul 31  2024 '23MCB0025 (1).pdf'\n",
            "-rw------- 1 root root    451093 Jul 31  2024 '23MCB0025 (1).pdf.docx'\n",
            "-rw------- 1 root root    316058 Jul 31  2024 '23MCB0025_COA_TH (1).pdf'\n",
            "-rw------- 1 root root    316058 Jul 31  2024  23MCB0025_COA_TH.pdf\n",
            "-rw------- 1 root root    332219 Jul 31  2024 '23MCB0025_LA5 (1).pdf'\n",
            "-rw------- 1 root root    332219 Jul 31  2024  23MCB0025_LA5.pdf\n",
            "-rw------- 1 root root    447793 Jul 31  2024  23MCB0025.pdf\n",
            "-rw------- 1 root root    451093 Jul 31  2024  23MCB0025.pdf.docx\n",
            "-rw------- 1 root root    387428 Jul 31  2024 '23MCB0025_VUSALA_SRI_SAI_PRAVALLIKA_SET (1).docx'\n",
            "-rw------- 1 root root    402601 Jul 31  2024 '23MCB0025_VUSALA_SRI_SAI_PRAVALLIKA_SET (1).pdf'\n",
            "-rw------- 1 root root    387428 Jul 31  2024  23MCB0025_VUSALA_SRI_SAI_PRAVALLIKA_SET.docx\n",
            "-rw------- 1 root root    402601 Jul 31  2024  23MCB0025_VUSALA_SRI_SAI_PRAVALLIKA_SET.pdf\n",
            "-rw------- 1 root root    387381 Jul 31  2024 '23MCB0025_VUSALA_SRI_SAI_PRAVALLIKA_SET REV (1).docx'\n",
            "-rw------- 1 root root    387381 Jul 31  2024 '23MCB0025_VUSALA_SRI_SAI_PRAVALLIKA_SET REV.docx'\n",
            "-rw------- 1 root root    580789 Jul 11  2024 'A2305223477_Vusala Akanksha.pdf'\n",
            "-rw------- 1 root root     24308 Jul 31  2024 'Abstract-SET_PRAVALLIKA (1).docx'\n",
            "-rw------- 1 root root     24308 Jul 31  2024  Abstract-SET_PRAVALLIKA.docx\n",
            "-rw------- 1 root root       182 Oct  3  2024 'AI-ML NOTES.gdoc'\n",
            "drwx------ 2 root root      4096 Oct  7  2022  AMRITSAR-LEH-LADAKH\n",
            "-rw------- 1 root root    344187 Apr 17 11:43 'APPLICATION FORM AND UNDERTAKING (2).pdf'\n",
            "drwx------ 2 root root      4096 Jul 26 09:19  archive1\n",
            "-rw------- 1 root root     41988 Feb 18 07:13 'Assignment - 2.docx'\n",
            "-rw------- 1 root root      8778 Jul 31  2024 'boats (1).xlsx'\n",
            "-rw------- 1 root root      8778 Jul 31  2024  boats.xlsx\n",
            "-rw------- 1 root root     35504 Dec  6  2024  bp-1.pdf\n",
            "-rw------- 1 root root       182 Jul 24 01:27 'Building a Better Experience — One Habit at a Time .gform'\n",
            "-rw------- 1 root root     72026 Apr 17 08:14 'chiinu_lor (1).pdf'\n",
            "-rw------- 1 root root     72026 Apr 17 08:14  chiinu_lor.pdf\n",
            "drwx------ 2 root root      4096 Aug 27  2023  Classroom\n",
            "drwx------ 2 root root      4096 Aug  8  2024 'Colab Notebooks'\n",
            "-rw------- 1 root root    208355 Sep 25  2024 'Copy of ML MODEL [SEASON OF AI WEEK 2].ipynb'\n",
            "-rw------- 1 root root    435070 Sep 13  2023 'C PROGRAMMING ASSIGNMENT 1 [VUSALA AKANKSHA]1CSE7Y.docx'\n",
            "lrw------- 1 root root         0 Sep 14  2023 'C PROGRAMMING ASSIGNMENT 2 [VUSALA AKANKSHA] 1CSE7Y (1).gdoc' -> '/content/drive/ '\n",
            "-rw------- 1 root root   2013172 Oct  6  2023 'C PROGRAMMING ASSIGNMENT 2 [VUSALA AKANKSHA] 1CSE7Y.docx'\n",
            "lrw------- 1 root root         0 Sep 14  2023 'C PROGRAMMING ASSIGNMENT 2 [VUSALA AKANKSHA] 1CSE7Y.gdoc' -> '/content/drive/ '\n",
            "-rw------- 1 root root    792146 Nov  2  2023 'C PROGRAMMING ASSIGNMENT 2 -VUSALA AKANKSHA- 1CSE7Y.pdf'\n",
            "-rw------- 1 root root   1844162 Sep 30  2024 'Cream and Yellow Illustrated Happy Ganesh Chaturthi Instagram Story.png'\n",
            "-rw------- 1 root root    186248 Jul 31  2024 'C_WmX67XoAENbFp (1) (1).jpg_large'\n",
            "-rw------- 1 root root    186248 Jul 31  2024 'C_WmX67XoAENbFp (1).jpg_large'\n",
            "-rw------- 1 root root    186248 Jul 31  2024 'C_WmX67XoAENbFp (2).jpg_large'\n",
            "-rw------- 1 root root    186248 Jul 31  2024  C_WmX67XoAENbFp.jpg_large\n",
            "-rw------- 1 root root     22905 May 20 13:07 'Data Preprocessing2.ipynb'\n",
            "drwx------ 2 root root      4096 Aug  8  2024 'data science'\n",
            "-rw------- 1 root root      9209 Jul 31  2024 'dependant (1).xlsx'\n",
            "-rw------- 1 root root      9209 Jul 31  2024  dependant.xlsx\n",
            "-rw------- 1 root root    376338 Mar 22  2024  DOC-20240320-WA0005..pdf\n",
            "-rw------- 1 root root     10467 Jul 31  2024 'employee (1).xlsx'\n",
            "-rw------- 1 root root     10467 Jul 31  2024  employee.xlsx\n",
            "-rw------- 1 root root       182 Nov 22  2023 'END SEMESTER EXAMINATION.gdoc'\n",
            "-rw------- 1 root root  10137520 Jun 26 08:54  ezyZip.mp4\n",
            "-rw------- 1 root root       182 Jul 19 10:44 'Feedback form .gform'\n",
            "-rw------- 1 root root       182 Nov 27  2023 'final list .gdoc'\n",
            "-rw------- 1 root root   1459142 Jul 31  2024 'HEI-Exempted-U-0497_SelfLearning_20220531171724 (1).pdf'\n",
            "-rw------- 1 root root   1459142 Jul 31  2024  HEI-Exempted-U-0497_SelfLearning_20220531171724.pdf\n",
            "-rw------- 1 root root       182 Feb  4  2024 'HISTORY ASSIGNMENT.gdoc'\n",
            "-rw------- 1 root root   1038360 Apr 14 06:25 'ID CARD AMITY.pdf'\n",
            "-rw------- 1 root root    333999 Jul 31  2024 'IGNTU-eContent-375577792959-BA-AIHC-6-DrJanardhanaB-ScienceandTechnologyinAncientIndia-4 (1).pdf'\n",
            "-rw------- 1 root root    333999 Jul 31  2024  IGNTU-eContent-375577792959-BA-AIHC-6-DrJanardhanaB-ScienceandTechnologyinAncientIndia-4.pdf\n",
            "-rw------- 1 root root    415758 Jul 31  2024 'la4 (1).pdf'\n",
            "-rw------- 1 root root    415758 Jul 31  2024  la4.pdf\n",
            "-rw------- 1 root root    381410 Jul 31  2024 'LA5 (1).pdf'\n",
            "-rw------- 1 root root    381410 Jul 31  2024  LA5.pdf\n",
            "-rw------- 1 root root       643 Jul 31  2024 'LA5_PiPROGRAM_23MCB0025 (1).zip'\n",
            "-rw------- 1 root root       643 Jul 31  2024  LA5_PiPROGRAM_23MCB0025.zip\n",
            "-rw------- 1 root root       182 Nov 25  2023 'list of feedback pre exam  (1).gdoc'\n",
            "-rw------- 1 root root       182 Nov 25  2023 'list of feedback pre exam .gdoc'\n",
            "-rw------- 1 root root   8332086 Apr 17 11:41  LORNOC.pdf\n",
            "drwx------ 2 root root      4096 Dec 11  2024 'Madhu Mams Gruhapravesam'\n",
            "-rw------- 1 root root      8538 May  9  2024 'mdd-bfna-sgb - May 9, 2024.pdf'\n",
            "-rw------- 1 root root       182 Oct 13  2023 'MINORS 🥲.gdoc'\n",
            "-rw------- 1 root root    478353 Aug 13  2024 'MLSC AI_ML SESSION 1 NOTES [13_08_24]-compressed.pdf'\n",
            "-rw------- 1 root root    431154 Sep 10  2024 'MLSC AI_ML SESSION 3 NOTES[10_09_24]-compressed.pdf'\n",
            "-rw------- 1 root root       182 Dec 10  2023 'Module 2 Basic programming Part 1.gdoc'\n",
            "drwx------ 2 root root      4096 Dec 10  2023 'Module 2.zip (Unzipped Files)'\n",
            "-rw------- 1 root root  82555450 Apr 26 06:21  MOV05111.AVI\n",
            "-rw------- 1 root root       182 Jun  5  2023 'My First Spreadsheet.gsheet'\n",
            "-rw------- 1 root root     54187 Jul 31  2024 'new doc 2021-09-22 20.18.18 (1).pdf'\n",
            "-rw------- 1 root root     54187 Jul 31  2024 'new doc 2021-09-22 20.18.18.pdf'\n",
            "-rw------- 1 root root     91241 Jul 31  2024 'new doc 2023-07-23 18.44.31 (1).pdf'\n",
            "-rw------- 1 root root     91241 Jul 31  2024 'new doc 2023-07-23 18.44.31.pdf'\n",
            "-rw------- 1 root root    537292 Jul 31  2024 'opm_lab1 (1).pdf'\n",
            "-rw------- 1 root root    537292 Jul 31  2024  opm_lab1.pdf\n",
            "-rw------- 1 root root   2006054 Jul 31  2024 'opm_lab2 (1).pdf'\n",
            "-rw------- 1 root root   2006054 Jul 31  2024  opm_lab2.pdf\n",
            "-rw------- 1 root root   2800289 Jul 31  2024 'opm_lab_final (1).pdf'\n",
            "-rw------- 1 root root   2800289 Jul 31  2024  opm_lab_final.pdf\n",
            "-rw------- 1 root root       182 Jan 25  2025 'Order Form.gform'\n",
            "-rw------- 1 root root     95381 Apr 23 07:47  OS.pdf\n",
            "-rw------- 1 root root       182 Dec 10  2023 'part 4-1.gdoc'\n",
            "-rw------- 1 root root       182 Dec 10  2023 'part 4-2.gdoc'\n",
            "-rw------- 1 root root    366586 Jul 31  2024 'Payment Status (1).pdf'\n",
            "-rw------- 1 root root    366586 Jul 31  2024 'Payment Status.pdf'\n",
            "-rw------- 1 root root   5129091 Jul  4 10:21 'Phir Bhi Shukriya.mp3'\n",
            "-rw------- 1 root root    215841 Dec  1  2023  pour-toi-mon-amour-fiche_231129_132149_copy.pdf\n",
            "-rw------- 1 root root       182 Dec 10  2023 'practice problems.gslides'\n",
            "-rw------- 1 root root       182 Jul 16 15:32 'PRISM-AI Mentorship Program – Section B Responses.gdoc'\n",
            "-rw------- 1 root root     37045 Apr 13 09:25  Profile.pdf\n",
            "-rw------- 1 root root      8788 Jul 31  2024 'reserves (1).xlsx'\n",
            "-rw------- 1 root root      8788 Jul 31  2024  reserves.xlsx\n",
            "-rw------- 1 root root    788257 Jul 28 14:25 'RESUME (1) (1).pdf'\n",
            "-rw------- 1 root root    879509 Jul 21 16:36  RESUME.docx\n",
            "-rw------- 1 root root       182 Jul 23 11:18  RESUME.gdoc\n",
            "-rw------- 1 root root   1417784 Jul 20 15:10  RESUME.pdf\n",
            "-rw------- 1 root root      8882 Jul 31  2024 'sailors (1).xlsx'\n",
            "-rw------- 1 root root      8882 Jul 31  2024  sailors.xlsx\n",
            "drwx------ 2 root root      4096 Jan 29  2023  Sangeet\n",
            "-rw------- 1 root root    419663 Jul 24 09:45  SAVE_20250724_151521.jpg\n",
            "-rw------- 1 root root   1364147 Sep 27  2024 'SEASON OF AI [WEEK 2 NOTES]-compressed.pdf'\n",
            "-rw------- 1 root root    717111 Oct  5  2024 'SEASON OF AI [WEEK 3 NOTES]-compressed.pdf'\n",
            "-rw------- 1 root root    709632 Oct 19  2024 'SEASON OF AI [WEEK 5 NOTES]-compressed.pdf'\n",
            "-rw------- 1 root root    505257 Mar  7  2024 'Semester 2 Updated notes..docx'\n",
            "drwx------ 2 root root      4096 May 10  2023  Snaps\n",
            "drwx------ 2 root root      4096 Jan 25  2023 'Sruti Akka Wedding'\n",
            "-rw------- 1 root root       182 Jun  5  2023 'Statistics 1 Wk 1 FAQ.gdoc'\n",
            "-rw------- 1 root root       182 Oct  6  2023 'TECHNICAL COMMUNICATION PRESENTATION.gdoc'\n",
            "-rw------- 1 root root 127725528 Jul 26 09:38  tree_species_model.h5\n",
            "-rw------- 1 root root 127723295 Jul 26 09:40  tree_species_model.keras\n",
            "-rw------- 1 root root       182 Dec 15  2023 'Untitled document (1).gdoc'\n",
            "-rw------- 1 root root       182 Dec 13  2023 'Untitled document (2).gdoc'\n",
            "-rw------- 1 root root       182 Nov 30  2023 'Untitled document (3).gdoc'\n",
            "-rw------- 1 root root       182 Nov 30  2023 'Untitled document (4).gdoc'\n",
            "-rw------- 1 root root       182 Nov 29  2023 'Untitled document (5).gdoc'\n",
            "-rw------- 1 root root       182 Nov 20  2023 'Untitled document (6).gdoc'\n",
            "-rw------- 1 root root       182 Nov 16  2023 'Untitled document (7).gdoc'\n",
            "-rw------- 1 root root       182 Nov 16  2023 'Untitled document (8).gdoc'\n",
            "-rw------- 1 root root       182 Sep 14  2023 'Untitled document (9).gdoc'\n",
            "-rw------- 1 root root       182 Mar  3  2024 'Untitled document.gdoc'\n",
            "-rw------- 1 root root       182 Apr 29  2024 'Untitled document - Line chart 1.gsheet'\n",
            "-rw------- 1 root root       182 Jan 25  2025 'Untitled form (1).gform'\n",
            "drwx------ 2 root root      4096 Jan 25  2025 'Untitled form (File responses)'\n",
            "-rw------- 1 root root       182 Feb 26 16:43 'Untitled form.gform'\n",
            "-rw------- 1 root root       182 Nov 25  2023 'update 2 of feeedback post (1).gdoc'\n",
            "-rw------- 1 root root       182 Nov 25  2023 'update 2 of feeedback post.gdoc'\n",
            "-rw------- 1 root root    384744 Apr 14  2024 'Updated_Questions Bank  AM-II_MATH122_copy.pdf'\n",
            "-rw------- 1 root root  55513221 Mar  9 14:47  VID_20250227_153339.mp4\n",
            "-rw------- 1 root root  27588665 Mar  3 12:02  VID_20250227_153750.mp4\n",
            "-rw------- 1 root root  54806193 Mar  3 12:02  VID_20250227_161937.mp4\n",
            "-rw------- 1 root root  35821292 Mar 24 14:39 'Video from Akanksha. V'\n",
            "-rw------- 1 root root       182 Oct 13  2023 'VUSALA AKANKSHA CPROGRAMMING ASSIGNMENT[PATTERN PRINTING] 13.10.23.gdoc'\n",
            "-rw------- 1 root root    148060 Jul 24 09:47 'VusalaAkanksha_Image1 (1).jpeg'\n",
            "-rw------- 1 root root    148060 Jul 24 09:47  VusalaAkanksha_Image1.jpeg\n",
            "-rw------- 1 root root   2784698 Jul 24 09:56  VusalaAkanksha_Image2.png\n",
            "-rw------- 1 root root    237962 Nov 27  2024 'Vusala Akanksha.jpeg'\n",
            "-rw------- 1 root root     78820 Jul  4 17:43 'VUSALA AKANKSHA.pdf'\n"
          ]
        }
      ]
    },
    {
      "cell_type": "code",
      "source": [
        "import os\n",
        "\n",
        "data_path = \"/content/drive/MyDrive/archive1\"\n",
        "\n",
        "for root, dirs, files in os.walk(data_path):\n",
        "    print(\"📁\", root)\n",
        "    print(\"📂\", dirs)\n",
        "    print(\"📄\", files[:5])\n",
        "    print(\"-\" * 40)\n"
      ],
      "metadata": {
        "id": "UQAxbvbWCOrX",
        "colab": {
          "base_uri": "https://localhost:8080/"
        },
        "outputId": "cd3389a7-3abf-406f-98cf-60bd02db198d"
      },
      "execution_count": null,
      "outputs": [
        {
          "output_type": "stream",
          "name": "stdout",
          "text": [
            "📁 /content/drive/MyDrive/archive1\n",
            "📂 ['Tree_Species_Dataset']\n",
            "📄 []\n",
            "----------------------------------------\n",
            "📁 /content/drive/MyDrive/archive1/Tree_Species_Dataset\n",
            "📂 ['bili', 'garmalo', 'coconut', 'babul', 'banyan', 'bamboo', 'champa', 'asopalav', 'cactus', 'amla', '.git', 'vad', 'other', 'sitafal', 'saptaparni', 'simlo', 'pipal', 'pilikaren', 'shirish', 'sonmahor', 'sugarcane', 'gunda', 'nilgiri', 'neem', 'jamun', 'khajur', 'kesudo', 'mango', 'gulmohor', 'kanchan', 'motichanoti']\n",
            "📄 []\n",
            "----------------------------------------\n",
            "📁 /content/drive/MyDrive/archive1/Tree_Species_Dataset/bili\n",
            "📂 []\n",
            "📄 []\n",
            "----------------------------------------\n",
            "📁 /content/drive/MyDrive/archive1/Tree_Species_Dataset/garmalo\n",
            "📂 []\n",
            "📄 ['image29.jpg', 'image28.jpg']\n",
            "----------------------------------------\n",
            "📁 /content/drive/MyDrive/archive1/Tree_Species_Dataset/coconut\n",
            "📂 []\n",
            "📄 []\n",
            "----------------------------------------\n",
            "📁 /content/drive/MyDrive/archive1/Tree_Species_Dataset/babul\n",
            "📂 []\n",
            "📄 ['3.jpeg']\n",
            "----------------------------------------\n",
            "📁 /content/drive/MyDrive/archive1/Tree_Species_Dataset/banyan\n",
            "📂 []\n",
            "📄 []\n",
            "----------------------------------------\n",
            "📁 /content/drive/MyDrive/archive1/Tree_Species_Dataset/bamboo\n",
            "📂 []\n",
            "📄 []\n",
            "----------------------------------------\n",
            "📁 /content/drive/MyDrive/archive1/Tree_Species_Dataset/champa\n",
            "📂 []\n",
            "📄 []\n",
            "----------------------------------------\n",
            "📁 /content/drive/MyDrive/archive1/Tree_Species_Dataset/asopalav\n",
            "📂 []\n",
            "📄 ['2.jpg', '4.jpg', '3.jpg']\n",
            "----------------------------------------\n",
            "📁 /content/drive/MyDrive/archive1/Tree_Species_Dataset/cactus\n",
            "📂 []\n",
            "📄 []\n",
            "----------------------------------------\n",
            "📁 /content/drive/MyDrive/archive1/Tree_Species_Dataset/amla\n",
            "📂 []\n",
            "📄 []\n",
            "----------------------------------------\n",
            "📁 /content/drive/MyDrive/archive1/Tree_Species_Dataset/.git\n",
            "📂 ['info', 'hooks']\n",
            "📄 []\n",
            "----------------------------------------\n",
            "📁 /content/drive/MyDrive/archive1/Tree_Species_Dataset/.git/info\n",
            "📂 []\n",
            "📄 []\n",
            "----------------------------------------\n",
            "📁 /content/drive/MyDrive/archive1/Tree_Species_Dataset/.git/hooks\n",
            "📂 []\n",
            "📄 []\n",
            "----------------------------------------\n",
            "📁 /content/drive/MyDrive/archive1/Tree_Species_Dataset/vad\n",
            "📂 []\n",
            "📄 ['download (8).jpeg', 'images (10).jpeg', 'images (1).jpeg', 'download (6).jpeg', 'download (7).jpeg']\n",
            "----------------------------------------\n",
            "📁 /content/drive/MyDrive/archive1/Tree_Species_Dataset/other\n",
            "📂 []\n",
            "📄 ['005_582c121a.jpg', '007_cabbfcbb.jpg', '01_jpg.rf.8d8a2f0f90d5b83893cd252acd832c93.jpg', '003_57612506.jpg', '001_fe3347c0.jpg']\n",
            "----------------------------------------\n",
            "📁 /content/drive/MyDrive/archive1/Tree_Species_Dataset/sitafal\n",
            "📂 []\n",
            "📄 ['download (4).jpeg', 'download (1).jpeg', 'download (2).jpeg', 'download (3).jpeg', 'images (15).jpeg']\n",
            "----------------------------------------\n",
            "📁 /content/drive/MyDrive/archive1/Tree_Species_Dataset/saptaparni\n",
            "📂 []\n",
            "📄 ['image10.jpg', 'image12.jpg', 'image1.jpg', 'image11.jpg', 'image24.jpg']\n",
            "----------------------------------------\n",
            "📁 /content/drive/MyDrive/archive1/Tree_Species_Dataset/simlo\n",
            "📂 []\n",
            "📄 ['download (1).jpeg', 'download (7).jpeg', 'images (11).jpeg', 'download (3).jpeg', 'download (2).jpeg']\n",
            "----------------------------------------\n",
            "📁 /content/drive/MyDrive/archive1/Tree_Species_Dataset/pipal\n",
            "📂 []\n",
            "📄 ['image1.jpg', 'image10.jpg', 'image15.jpg', 'image12.jpg', 'image16.jpg']\n",
            "----------------------------------------\n",
            "📁 /content/drive/MyDrive/archive1/Tree_Species_Dataset/pilikaren\n",
            "📂 []\n",
            "📄 ['download (11).jpg', 'download (12).jpg', 'download (10).jpg', 'download (13).jpg', 'download (1).jpg']\n",
            "----------------------------------------\n",
            "📁 /content/drive/MyDrive/archive1/Tree_Species_Dataset/shirish\n",
            "📂 []\n",
            "📄 ['51oVVUvxNEL._AC_UF1000,1000_QL80_.jpg', 'download (4).jpeg', 'download (3).jpeg', 'images (12).jpeg', 'images (11).jpeg']\n",
            "----------------------------------------\n",
            "📁 /content/drive/MyDrive/archive1/Tree_Species_Dataset/sonmahor\n",
            "📂 []\n",
            "📄 ['download (15).jpeg', 'download (10).jpeg', 'download (1).jpeg', 'download (14).jpeg', 'download (11).jpeg']\n",
            "----------------------------------------\n",
            "📁 /content/drive/MyDrive/archive1/Tree_Species_Dataset/sugarcane\n",
            "📂 []\n",
            "📄 ['download (11).jpeg', 'download (12).jpeg', 'download (1).jpeg', 'download (10).jpeg', 'download (13).jpeg']\n",
            "----------------------------------------\n",
            "📁 /content/drive/MyDrive/archive1/Tree_Species_Dataset/gunda\n",
            "📂 []\n",
            "📄 ['download (10).jpeg', 'download (1).jpg', 'download (13).jpeg', 'download (12).jpeg', 'download (11).jpeg']\n",
            "----------------------------------------\n",
            "📁 /content/drive/MyDrive/archive1/Tree_Species_Dataset/nilgiri\n",
            "📂 []\n",
            "📄 ['image15.jpg', 'image10.jpg', 'image12.jpg', 'download (6).jpeg', 'image18.jpg']\n",
            "----------------------------------------\n",
            "📁 /content/drive/MyDrive/archive1/Tree_Species_Dataset/neem\n",
            "📂 []\n",
            "📄 ['image1.jpg', 'image10.jpg', 'image13.jpg', 'image17.jpg', 'image14.jpg']\n",
            "----------------------------------------\n",
            "📁 /content/drive/MyDrive/archive1/Tree_Species_Dataset/jamun\n",
            "📂 []\n",
            "📄 ['download (3).jpeg', 'download (1).jpeg', 'download.jpg', 'download.jpeg', 'download (15).jpeg']\n",
            "----------------------------------------\n",
            "📁 /content/drive/MyDrive/archive1/Tree_Species_Dataset/khajur\n",
            "📂 []\n",
            "📄 ['download (1).jpg', 'download (2).jpeg', 'download (1).jpeg', 'download (6).jpeg', 'images (10).jpeg']\n",
            "----------------------------------------\n",
            "📁 /content/drive/MyDrive/archive1/Tree_Species_Dataset/kesudo\n",
            "📂 []\n",
            "📄 ['images (1).jpeg', 'download (2).jpeg', 'images (10).jpeg', 'images (13).jpeg', 'download (1).jpeg']\n",
            "----------------------------------------\n",
            "📁 /content/drive/MyDrive/archive1/Tree_Species_Dataset/mango\n",
            "📂 []\n",
            "📄 ['10.jpg', '11.jpg', '12.jpg', '1.jpg', '21.jpg']\n",
            "----------------------------------------\n",
            "📁 /content/drive/MyDrive/archive1/Tree_Species_Dataset/gulmohor\n",
            "📂 []\n",
            "📄 ['download (1).jpeg', 'download (5).jpeg', 'download (3).jpeg', 'download (6).jpeg', 'download (8).jpeg']\n",
            "----------------------------------------\n",
            "📁 /content/drive/MyDrive/archive1/Tree_Species_Dataset/kanchan\n",
            "📂 []\n",
            "📄 ['240_F_235932230_yMeilkCzd2NuHwo27O0AG6W2tcqFv5bj.jpg', '240_F_572498418_NlT2gk9wl74w5hLcuj6VNdhY8qEjkPwW.jpg', '240_F_815640135_Cv31bAD7NT8dwVRbsNBiFWEgxgNxpmBt.jpg', 'download (1).jpg', '240_F_368610928_11QZ7ce2hT0kzE0lLWlP577btSyBsOPk.jpg']\n",
            "----------------------------------------\n",
            "📁 /content/drive/MyDrive/archive1/Tree_Species_Dataset/motichanoti\n",
            "📂 []\n",
            "📄 ['download (4).jpeg', 'download (2).jpg', 'download (12).jpg', 'download (2).jpeg', 'download (5).jpg']\n",
            "----------------------------------------\n"
          ]
        }
      ]
    },
    {
      "cell_type": "code",
      "source": [
        "!pip install split-folders\n",
        "import splitfolders\n",
        "\n",
        "# Set source and destination paths\n",
        "source_dir = \"/content/drive/MyDrive/archive1/Tree_Species_Dataset\"\n",
        "output_dir = \"/content/tree_dataset_split\"\n",
        "\n",
        "# Split into train:val:test = 70:20:10\n",
        "splitfolders.ratio(source_dir, output=output_dir, seed=42, ratio=(.7, .2, .1))"
      ],
      "metadata": {
        "colab": {
          "base_uri": "https://localhost:8080/"
        },
        "id": "S5vLEjGoCit_",
        "outputId": "3f034609-9979-4fcb-cf94-e71175fef9f4"
      },
      "execution_count": null,
      "outputs": [
        {
          "output_type": "stream",
          "name": "stdout",
          "text": [
            "Collecting split-folders\n",
            "  Downloading split_folders-0.5.1-py3-none-any.whl.metadata (6.2 kB)\n",
            "Downloading split_folders-0.5.1-py3-none-any.whl (8.4 kB)\n",
            "Installing collected packages: split-folders\n",
            "Successfully installed split-folders-0.5.1\n"
          ]
        },
        {
          "output_type": "stream",
          "name": "stderr",
          "text": [
            "Copying files: 1105 files [05:22,  3.42 files/s]\n"
          ]
        }
      ]
    },
    {
      "cell_type": "code",
      "source": [
        "train_dir = \"/content/tree_dataset_split/train\"\n",
        "val_dir = \"/content/tree_dataset_split/val\"\n",
        "test_dir = \"/content/tree_dataset_split/test\"\n"
      ],
      "metadata": {
        "id": "Z6TnSl8gD3Fh"
      },
      "execution_count": null,
      "outputs": []
    },
    {
      "cell_type": "code",
      "source": [
        "from tensorflow.keras.preprocessing.image import ImageDataGenerator\n",
        "\n",
        "IMG_SIZE = 150\n",
        "BATCH_SIZE = 32\n",
        "\n",
        "train_datagen = ImageDataGenerator(rescale=1./255)\n",
        "val_datagen = ImageDataGenerator(rescale=1./255)\n",
        "test_datagen = ImageDataGenerator(rescale=1./255)\n",
        "\n",
        "train_generator = train_datagen.flow_from_directory(\n",
        "    train_dir,\n",
        "    target_size=(IMG_SIZE, IMG_SIZE),\n",
        "    batch_size=BATCH_SIZE,\n",
        "    class_mode='categorical'\n",
        ")\n",
        "\n",
        "val_generator = val_datagen.flow_from_directory(\n",
        "    val_dir,\n",
        "    target_size=(IMG_SIZE, IMG_SIZE),\n",
        "    batch_size=BATCH_SIZE,\n",
        "    class_mode='categorical'\n",
        ")\n",
        "\n",
        "test_generator = test_datagen.flow_from_directory(\n",
        "    test_dir,\n",
        "    target_size=(IMG_SIZE, IMG_SIZE),\n",
        "    batch_size=BATCH_SIZE,\n",
        "    class_mode='categorical',\n",
        "    shuffle=False\n",
        ")\n"
      ],
      "metadata": {
        "id": "rkgm9SAgD4n2",
        "colab": {
          "base_uri": "https://localhost:8080/"
        },
        "outputId": "9084cb2e-473a-491a-9ab8-290e6135be33"
      },
      "execution_count": null,
      "outputs": [
        {
          "output_type": "stream",
          "name": "stdout",
          "text": [
            "Found 772 images belonging to 31 classes.\n",
            "Found 219 images belonging to 31 classes.\n",
            "Found 114 images belonging to 31 classes.\n"
          ]
        }
      ]
    },
    {
      "cell_type": "code",
      "source": [
        "from tensorflow.keras.models import Sequential\n",
        "from tensorflow.keras.layers import Conv2D, MaxPooling2D, Flatten, Dense, Dropout\n",
        "\n",
        "model = Sequential([\n",
        "    Conv2D(32, (3, 3), activation='relu', input_shape=(IMG_SIZE, IMG_SIZE, 3)),\n",
        "    MaxPooling2D(2, 2),\n",
        "    Conv2D(64, (3, 3), activation='relu'),\n",
        "    MaxPooling2D(2, 2),\n",
        "    Flatten(),\n",
        "    Dense(128, activation='relu'),\n",
        "    Dropout(0.5),\n",
        "    Dense(train_generator.num_classes, activation='softmax')\n",
        "])\n"
      ],
      "metadata": {
        "id": "3y7Ix_8hD7Qr",
        "colab": {
          "base_uri": "https://localhost:8080/"
        },
        "outputId": "354ff5c5-77cb-4404-a011-fbe2f622e874"
      },
      "execution_count": null,
      "outputs": [
        {
          "output_type": "stream",
          "name": "stderr",
          "text": [
            "/usr/local/lib/python3.11/dist-packages/keras/src/layers/convolutional/base_conv.py:107: UserWarning: Do not pass an `input_shape`/`input_dim` argument to a layer. When using Sequential models, prefer using an `Input(shape)` object as the first layer in the model instead.\n",
            "  super().__init__(activity_regularizer=activity_regularizer, **kwargs)\n"
          ]
        }
      ]
    },
    {
      "cell_type": "code",
      "source": [
        "model.compile(optimizer='adam',\n",
        "              loss='categorical_crossentropy',\n",
        "              metrics=['accuracy'])\n",
        "\n",
        "history = model.fit(\n",
        "    train_generator,\n",
        "    epochs=10,\n",
        "    validation_data=val_generator\n",
        ")\n"
      ],
      "metadata": {
        "id": "PrI2thRdD_RE",
        "colab": {
          "base_uri": "https://localhost:8080/"
        },
        "outputId": "f9683418-e02c-4c96-bbe5-69a3ebc776a6"
      },
      "execution_count": null,
      "outputs": [
        {
          "output_type": "stream",
          "name": "stderr",
          "text": [
            "/usr/local/lib/python3.11/dist-packages/keras/src/trainers/data_adapters/py_dataset_adapter.py:121: UserWarning: Your `PyDataset` class should call `super().__init__(**kwargs)` in its constructor. `**kwargs` can include `workers`, `use_multiprocessing`, `max_queue_size`. Do not pass these arguments to `fit()`, as they will be ignored.\n",
            "  self._warn_if_super_not_called()\n"
          ]
        },
        {
          "output_type": "stream",
          "name": "stdout",
          "text": [
            "Epoch 1/10\n",
            "\u001b[1m25/25\u001b[0m \u001b[32m━━━━━━━━━━━━━━━━━━━━\u001b[0m\u001b[37m\u001b[0m \u001b[1m44s\u001b[0m 2s/step - accuracy: 0.0850 - loss: 4.2562 - val_accuracy: 0.1461 - val_loss: 2.9910\n",
            "Epoch 2/10\n",
            "\u001b[1m25/25\u001b[0m \u001b[32m━━━━━━━━━━━━━━━━━━━━\u001b[0m\u001b[37m\u001b[0m \u001b[1m81s\u001b[0m 2s/step - accuracy: 0.1362 - loss: 3.0113 - val_accuracy: 0.2420 - val_loss: 2.8511\n",
            "Epoch 3/10\n",
            "\u001b[1m25/25\u001b[0m \u001b[32m━━━━━━━━━━━━━━━━━━━━\u001b[0m\u001b[37m\u001b[0m \u001b[1m41s\u001b[0m 2s/step - accuracy: 0.1876 - loss: 2.8248 - val_accuracy: 0.2557 - val_loss: 2.5613\n",
            "Epoch 4/10\n",
            "\u001b[1m25/25\u001b[0m \u001b[32m━━━━━━━━━━━━━━━━━━━━\u001b[0m\u001b[37m\u001b[0m \u001b[1m37s\u001b[0m 2s/step - accuracy: 0.2118 - loss: 2.7069 - val_accuracy: 0.3014 - val_loss: 2.4860\n",
            "Epoch 5/10\n",
            "\u001b[1m25/25\u001b[0m \u001b[32m━━━━━━━━━━━━━━━━━━━━\u001b[0m\u001b[37m\u001b[0m \u001b[1m40s\u001b[0m 2s/step - accuracy: 0.3034 - loss: 2.3620 - val_accuracy: 0.2922 - val_loss: 2.4064\n",
            "Epoch 6/10\n",
            "\u001b[1m25/25\u001b[0m \u001b[32m━━━━━━━━━━━━━━━━━━━━\u001b[0m\u001b[37m\u001b[0m \u001b[1m38s\u001b[0m 1s/step - accuracy: 0.4478 - loss: 1.9803 - val_accuracy: 0.3927 - val_loss: 2.2053\n",
            "Epoch 7/10\n",
            "\u001b[1m25/25\u001b[0m \u001b[32m━━━━━━━━━━━━━━━━━━━━\u001b[0m\u001b[37m\u001b[0m \u001b[1m40s\u001b[0m 2s/step - accuracy: 0.6152 - loss: 1.4371 - val_accuracy: 0.3881 - val_loss: 2.1867\n",
            "Epoch 8/10\n",
            "\u001b[1m25/25\u001b[0m \u001b[32m━━━━━━━━━━━━━━━━━━━━\u001b[0m\u001b[37m\u001b[0m \u001b[1m37s\u001b[0m 2s/step - accuracy: 0.6615 - loss: 1.0806 - val_accuracy: 0.4201 - val_loss: 2.1841\n",
            "Epoch 9/10\n",
            "\u001b[1m25/25\u001b[0m \u001b[32m━━━━━━━━━━━━━━━━━━━━\u001b[0m\u001b[37m\u001b[0m \u001b[1m41s\u001b[0m 2s/step - accuracy: 0.7960 - loss: 0.7518 - val_accuracy: 0.4018 - val_loss: 2.2088\n",
            "Epoch 10/10\n",
            "\u001b[1m25/25\u001b[0m \u001b[32m━━━━━━━━━━━━━━━━━━━━\u001b[0m\u001b[37m\u001b[0m \u001b[1m40s\u001b[0m 2s/step - accuracy: 0.8435 - loss: 0.5940 - val_accuracy: 0.3607 - val_loss: 2.3401\n"
          ]
        }
      ]
    },
    {
      "cell_type": "code",
      "source": [
        "loss, accuracy = model.evaluate(test_generator)\n",
        "print(f\"✅ Test Accuracy: {accuracy * 100:.2f}%\")\n"
      ],
      "metadata": {
        "id": "fUuhH1qwEEBw",
        "colab": {
          "base_uri": "https://localhost:8080/"
        },
        "outputId": "7d6a2fe3-b90a-40db-a7b0-4d67705a7ebe"
      },
      "execution_count": null,
      "outputs": [
        {
          "output_type": "stream",
          "name": "stdout",
          "text": [
            "\u001b[1m4/4\u001b[0m \u001b[32m━━━━━━━━━━━━━━━━━━━━\u001b[0m\u001b[37m\u001b[0m \u001b[1m3s\u001b[0m 485ms/step - accuracy: 0.3592 - loss: 2.6904\n",
            "✅ Test Accuracy: 37.72%\n"
          ]
        }
      ]
    },
    {
      "cell_type": "code",
      "source": [
        "model.save(\"/content/tree_species_model.keras\")  # Recommended format\n"
      ],
      "metadata": {
        "id": "jmjNIvroEFPe"
      },
      "execution_count": null,
      "outputs": []
    },
    {
      "cell_type": "code",
      "source": [
        "from google.colab import files\n",
        "files.download(\"/content/tree_species_model.keras\")\n"
      ],
      "metadata": {
        "id": "BVmt8y18GIKG",
        "colab": {
          "base_uri": "https://localhost:8080/",
          "height": 17
        },
        "outputId": "b9d3bfb8-5a2e-4d98-8d1b-766edff761ef"
      },
      "execution_count": null,
      "outputs": [
        {
          "output_type": "display_data",
          "data": {
            "text/plain": [
              "<IPython.core.display.Javascript object>"
            ],
            "application/javascript": [
              "\n",
              "    async function download(id, filename, size) {\n",
              "      if (!google.colab.kernel.accessAllowed) {\n",
              "        return;\n",
              "      }\n",
              "      const div = document.createElement('div');\n",
              "      const label = document.createElement('label');\n",
              "      label.textContent = `Downloading \"${filename}\": `;\n",
              "      div.appendChild(label);\n",
              "      const progress = document.createElement('progress');\n",
              "      progress.max = size;\n",
              "      div.appendChild(progress);\n",
              "      document.body.appendChild(div);\n",
              "\n",
              "      const buffers = [];\n",
              "      let downloaded = 0;\n",
              "\n",
              "      const channel = await google.colab.kernel.comms.open(id);\n",
              "      // Send a message to notify the kernel that we're ready.\n",
              "      channel.send({})\n",
              "\n",
              "      for await (const message of channel.messages) {\n",
              "        // Send a message to notify the kernel that we're ready.\n",
              "        channel.send({})\n",
              "        if (message.buffers) {\n",
              "          for (const buffer of message.buffers) {\n",
              "            buffers.push(buffer);\n",
              "            downloaded += buffer.byteLength;\n",
              "            progress.value = downloaded;\n",
              "          }\n",
              "        }\n",
              "      }\n",
              "      const blob = new Blob(buffers, {type: 'application/binary'});\n",
              "      const a = document.createElement('a');\n",
              "      a.href = window.URL.createObjectURL(blob);\n",
              "      a.download = filename;\n",
              "      div.appendChild(a);\n",
              "      a.click();\n",
              "      div.remove();\n",
              "    }\n",
              "  "
            ]
          },
          "metadata": {}
        },
        {
          "output_type": "display_data",
          "data": {
            "text/plain": [
              "<IPython.core.display.Javascript object>"
            ],
            "application/javascript": [
              "download(\"download_f2ce219b-c44c-4a60-b742-7be188811aa7\", \"tree_species_model.keras\", 127723744)"
            ]
          },
          "metadata": {}
        }
      ]
    },
    {
      "cell_type": "code",
      "source": [
        "!ls /content\n"
      ],
      "metadata": {
        "id": "Ro-UwuEFGNeP",
        "colab": {
          "base_uri": "https://localhost:8080/"
        },
        "outputId": "d920a56e-9e49-4871-dcfe-fa9173963577"
      },
      "execution_count": null,
      "outputs": [
        {
          "output_type": "stream",
          "name": "stdout",
          "text": [
            "drive  sample_data  tree_dataset_split\n"
          ]
        }
      ]
    },
    {
      "cell_type": "code",
      "source": [
        "import matplotlib.pyplot as plt\n",
        "\n",
        "# Accuracy plot\n",
        "plt.plot(history.history['accuracy'], label='Train Accuracy')\n",
        "plt.plot(history.history['val_accuracy'], label='Validation Accuracy')\n",
        "plt.title('Model Accuracy')\n",
        "plt.xlabel('Epoch')\n",
        "plt.ylabel('Accuracy')\n",
        "plt.legend()\n",
        "plt.show()\n",
        "\n",
        "# Loss plot\n",
        "plt.plot(history.history['loss'], label='Train Loss')\n",
        "plt.plot(history.history['val_loss'], label='Validation Loss')\n",
        "plt.title('Model Loss')\n",
        "plt.xlabel('Epoch')\n",
        "plt.ylabel('Loss')\n",
        "plt.legend()\n",
        "plt.show()\n"
      ],
      "metadata": {
        "id": "iNoZci3AEO1X",
        "colab": {
          "base_uri": "https://localhost:8080/",
          "height": 927
        },
        "outputId": "62938848-722f-41b8-9379-9ecc1723b12a"
      },
      "execution_count": null,
      "outputs": [
        {
          "output_type": "display_data",
          "data": {
            "text/plain": [
              "<Figure size 640x480 with 1 Axes>"
            ],
            "image/png": "[encoded data removed]"
          },
          "metadata": {}
        },
        {
          "output_type": "display_data",
          "data": {
            "text/plain": [
              "<Figure size 640x480 with 1 Axes>"
            ],
            "image/png": "[encoded data removed]"
          },
          "metadata": {}
        }
      ]
    },
    {
      "cell_type": "code",
      "source": [
        "import os\n",
        "import numpy as np\n",
        "import pandas as pd\n",
        "import matplotlib.pyplot as plt\n",
        "import tensorflow as tf\n",
        "from tensorflow.keras.preprocessing.image import ImageDataGenerator\n",
        "from tensorflow.keras.applications import EfficientNetB0\n",
        "from tensorflow.keras.applications.efficientnet import preprocess_input\n",
        "from tensorflow.keras.models import Model\n",
        "from tensorflow.keras.layers import Dense, GlobalAveragePooling2D, Dropout\n",
        "from tensorflow.keras.callbacks import EarlyStopping, ModelCheckpoint\n",
        "from tensorflow.keras.optimizers import Adam\n",
        "\n",
        "# Define paths\n",
        "base_path = \"/content/tree_dataset_split\"\n",
        "train_dir = os.path.join(base_path, \"train\")\n",
        "test_dir = os.path.join(base_path, \"test\")\n",
        "\n",
        "# Image parameters\n",
        "img_height, img_width = 224, 224\n",
        "batch_size = 32\n",
        "\n",
        "# ImageDataGenerators with augmentation and validation split\n",
        "train_datagen = ImageDataGenerator(\n",
        "    preprocessing_function=preprocess_input,\n",
        "    rotation_range=20,\n",
        "    zoom_range=0.2,\n",
        "    horizontal_flip=True,\n",
        "    width_shift_range=0.1,\n",
        "    height_shift_range=0.1,\n",
        "    shear_range=0.1,\n",
        "    validation_split=0.2  # Use 20% of training data for validation\n",
        ")\n",
        "\n",
        "test_datagen = ImageDataGenerator(preprocessing_function=preprocess_input)\n",
        "\n",
        "train_gen = train_datagen.flow_from_directory(\n",
        "    train_dir,\n",
        "    target_size=(img_height, img_width),\n",
        "    batch_size=batch_size,\n",
        "    class_mode='categorical',\n",
        "    subset='training', # Specify training subset\n",
        "    shuffle=True\n",
        ")\n",
        "\n",
        "val_gen = train_datagen.flow_from_directory( # Use the same datagen for validation\n",
        "    train_dir,\n",
        "    target_size=(img_height, img_width),\n",
        "    batch_size=batch_size,\n",
        "    class_mode='categorical',\n",
        "    subset='validation', # Specify validation subset\n",
        "    shuffle=False # No need to shuffle validation data\n",
        ")\n",
        "\n",
        "test_gen = test_datagen.flow_from_directory(\n",
        "    test_dir,\n",
        "    target_size=(img_height, img_width),\n",
        "    batch_size=batch_size,\n",
        "    class_mode='categorical',\n",
        "    shuffle=False\n",
        ")\n",
        "\n",
        "class_names = list(train_gen.class_indices.keys())\n",
        "\n",
        "# Build the model\n",
        "base_model = EfficientNetB0(include_top=False, weights='imagenet', input_shape=(img_height, img_width, 3))\n",
        "base_model.trainable = False  # Fine-tune later if needed\n",
        "\n",
        "x = GlobalAveragePooling2D()(base_model.output)\n",
        "x = Dropout(0.3)(x) # Added Dropout\n",
        "output = Dense(len(class_names), activation='softmax')(x)\n",
        "\n",
        "model = Model(inputs=base_model.input, outputs=output)\n",
        "\n",
        "model.compile(optimizer=Adam(learning_rate=0.001), loss='categorical_crossentropy', metrics=['accuracy']) # Changed optimizer and learning rate\n",
        "\n",
        "# Callbacks\n",
        "early_stop = EarlyStopping(monitor='val_loss', patience=5, restore_best_weights=True)\n",
        "checkpoint = ModelCheckpoint(\"tree_species_model.keras\", monitor='val_accuracy', save_best_only=True)\n",
        "\n",
        "# Train the model\n",
        "history = model.fit(\n",
        "    train_gen,\n",
        "    validation_data=val_gen,\n",
        "    epochs=25,\n",
        "    callbacks=[early_stop, checkpoint]\n",
        ")\n",
        "\n",
        "# Evaluate\n",
        "loss, acc = model.evaluate(test_gen)\n",
        "print(f\"✅ Test Accuracy: {acc * 100:.2f}%\")\n",
        "\n",
        "# Plot accuracy/loss\n",
        "plt.plot(history.history['accuracy'], label='Train')\n",
        "plt.plot(history.history['val_accuracy'], label='Val')\n",
        "plt.title('Model Accuracy')\n",
        "plt.xlabel('Epoch')\n",
        "plt.ylabel('Accuracy')\n",
        "plt.legend()\n",
        "plt.show()\n",
        "\n",
        "plt.plot(history.history['loss'], label='Train')\n",
        "plt.plot(history.history['val_loss'], label='Val')\n",
        "plt.title('Model Loss')\n",
        "plt.xlabel('Epoch')\n",
        "plt.ylabel('Loss')\n",
        "plt.legend()\n",
        "plt.show()"
      ],
      "metadata": {
        "colab": {
          "base_uri": "https://localhost:8080/",
          "height": 1000
        },
        "id": "0wVhyg8P69oR",
        "outputId": "cc66a5df-9d1b-4417-c139-6b97798c749e"
      },
      "execution_count": null,
      "outputs": [
        {
          "output_type": "stream",
          "name": "stdout",
          "text": [
            "Found 619 images belonging to 31 classes.\n",
            "Found 153 images belonging to 31 classes.\n",
            "Found 114 images belonging to 31 classes.\n"
          ]
        },
        {
          "output_type": "stream",
          "name": "stderr",
          "text": [
            "/usr/local/lib/python3.11/dist-packages/keras/src/trainers/data_adapters/py_dataset_adapter.py:121: UserWarning: Your `PyDataset` class should call `super().__init__(**kwargs)` in its constructor. `**kwargs` can include `workers`, `use_multiprocessing`, `max_queue_size`. Do not pass these arguments to `fit()`, as they will be ignored.\n",
            "  self._warn_if_super_not_called()\n"
          ]
        },
        {
          "output_type": "stream",
          "name": "stdout",
          "text": [
            "Epoch 1/25\n",
            "\u001b[1m20/20\u001b[0m \u001b[32m━━━━━━━━━━━━━━━━━━━━\u001b[0m\u001b[37m\u001b[0m \u001b[1m93s\u001b[0m 4s/step - accuracy: 0.0961 - loss: 3.2490 - val_accuracy: 0.3137 - val_loss: 2.5854\n",
            "Epoch 2/25\n",
            "\u001b[1m20/20\u001b[0m \u001b[32m━━━━━━━━━━━━━━━━━━━━\u001b[0m\u001b[37m\u001b[0m \u001b[1m78s\u001b[0m 4s/step - accuracy: 0.3285 - loss: 2.4287 - val_accuracy: 0.4379 - val_loss: 2.2311\n",
            "Epoch 3/25\n",
            "\u001b[1m20/20\u001b[0m \u001b[32m━━━━━━━━━━━━━━━━━━━━\u001b[0m\u001b[37m\u001b[0m \u001b[1m71s\u001b[0m 4s/step - accuracy: 0.5009 - loss: 1.9876 - val_accuracy: 0.4771 - val_loss: 1.9765\n",
            "Epoch 4/25\n",
            "\u001b[1m20/20\u001b[0m \u001b[32m━━━━━━━━━━━━━━━━━━━━\u001b[0m\u001b[37m\u001b[0m \u001b[1m78s\u001b[0m 4s/step - accuracy: 0.5652 - loss: 1.6777 - val_accuracy: 0.5163 - val_loss: 1.8691\n",
            "Epoch 5/25\n",
            "\u001b[1m20/20\u001b[0m \u001b[32m━━━━━━━━━━━━━━━━━━━━\u001b[0m\u001b[37m\u001b[0m \u001b[1m77s\u001b[0m 4s/step - accuracy: 0.6200 - loss: 1.5329 - val_accuracy: 0.5490 - val_loss: 1.6947\n",
            "Epoch 6/25\n",
            "\u001b[1m20/20\u001b[0m \u001b[32m━━━━━━━━━━━━━━━━━━━━\u001b[0m\u001b[37m\u001b[0m \u001b[1m73s\u001b[0m 4s/step - accuracy: 0.6697 - loss: 1.4021 - val_accuracy: 0.6013 - val_loss: 1.6603\n",
            "Epoch 7/25\n",
            "\u001b[1m20/20\u001b[0m \u001b[32m━━━━━━━━━━━━━━━━━━━━\u001b[0m\u001b[37m\u001b[0m \u001b[1m71s\u001b[0m 4s/step - accuracy: 0.7051 - loss: 1.2583 - val_accuracy: 0.5817 - val_loss: 1.5577\n",
            "Epoch 8/25\n",
            "\u001b[1m20/20\u001b[0m \u001b[32m━━━━━━━━━━━━━━━━━━━━\u001b[0m\u001b[37m\u001b[0m \u001b[1m69s\u001b[0m 3s/step - accuracy: 0.7125 - loss: 1.1808 - val_accuracy: 0.6275 - val_loss: 1.5294\n",
            "Epoch 9/25\n",
            "\u001b[1m20/20\u001b[0m \u001b[32m━━━━━━━━━━━━━━━━━━━━\u001b[0m\u001b[37m\u001b[0m \u001b[1m82s\u001b[0m 3s/step - accuracy: 0.7780 - loss: 1.0823 - val_accuracy: 0.5948 - val_loss: 1.4820\n",
            "Epoch 10/25\n",
            "\u001b[1m20/20\u001b[0m \u001b[32m━━━━━━━━━━━━━━━━━━━━\u001b[0m\u001b[37m\u001b[0m \u001b[1m72s\u001b[0m 4s/step - accuracy: 0.7218 - loss: 1.0812 - val_accuracy: 0.6209 - val_loss: 1.4250\n",
            "Epoch 11/25\n",
            "\u001b[1m20/20\u001b[0m \u001b[32m━━━━━━━━━━━━━━━━━━━━\u001b[0m\u001b[37m\u001b[0m \u001b[1m70s\u001b[0m 4s/step - accuracy: 0.7924 - loss: 0.9489 - val_accuracy: 0.5948 - val_loss: 1.4307\n",
            "Epoch 12/25\n",
            "\u001b[1m20/20\u001b[0m \u001b[32m━━━━━━━━━━━━━━━━━━━━\u001b[0m\u001b[37m\u001b[0m \u001b[1m68s\u001b[0m 3s/step - accuracy: 0.7561 - loss: 1.0063 - val_accuracy: 0.6144 - val_loss: 1.4231\n",
            "Epoch 13/25\n",
            "\u001b[1m20/20\u001b[0m \u001b[32m━━━━━━━━━━━━━━━━━━━━\u001b[0m\u001b[37m\u001b[0m \u001b[1m70s\u001b[0m 4s/step - accuracy: 0.8003 - loss: 0.8980 - val_accuracy: 0.6601 - val_loss: 1.3585\n",
            "Epoch 14/25\n",
            "\u001b[1m20/20\u001b[0m \u001b[32m━━━━━━━━━━━━━━━━━━━━\u001b[0m\u001b[37m\u001b[0m \u001b[1m75s\u001b[0m 4s/step - accuracy: 0.8120 - loss: 0.8386 - val_accuracy: 0.6405 - val_loss: 1.3687\n",
            "Epoch 15/25\n",
            "\u001b[1m20/20\u001b[0m \u001b[32m━━━━━━━━━━━━━━━━━━━━\u001b[0m\u001b[37m\u001b[0m \u001b[1m77s\u001b[0m 4s/step - accuracy: 0.7804 - loss: 0.8421 - val_accuracy: 0.6471 - val_loss: 1.2884\n",
            "Epoch 16/25\n",
            "\u001b[1m20/20\u001b[0m \u001b[32m━━━━━━━━━━━━━━━━━━━━\u001b[0m\u001b[37m\u001b[0m \u001b[1m70s\u001b[0m 4s/step - accuracy: 0.8134 - loss: 0.8454 - val_accuracy: 0.6536 - val_loss: 1.2745\n",
            "Epoch 17/25\n",
            "\u001b[1m20/20\u001b[0m \u001b[32m━━━━━━━━━━━━━━━━━━━━\u001b[0m\u001b[37m\u001b[0m \u001b[1m75s\u001b[0m 4s/step - accuracy: 0.7998 - loss: 0.8210 - val_accuracy: 0.6471 - val_loss: 1.2675\n",
            "Epoch 18/25\n",
            "\u001b[1m20/20\u001b[0m \u001b[32m━━━━━━━━━━━━━━━━━━━━\u001b[0m\u001b[37m\u001b[0m \u001b[1m76s\u001b[0m 4s/step - accuracy: 0.8387 - loss: 0.7190 - val_accuracy: 0.6405 - val_loss: 1.2437\n",
            "Epoch 19/25\n",
            "\u001b[1m20/20\u001b[0m \u001b[32m━━━━━━━━━━━━━━━━━━━━\u001b[0m\u001b[37m\u001b[0m \u001b[1m73s\u001b[0m 4s/step - accuracy: 0.8139 - loss: 0.7419 - val_accuracy: 0.6667 - val_loss: 1.2572\n",
            "Epoch 20/25\n",
            "\u001b[1m20/20\u001b[0m \u001b[32m━━━━━━━━━━━━━━━━━━━━\u001b[0m\u001b[37m\u001b[0m \u001b[1m76s\u001b[0m 4s/step - accuracy: 0.8185 - loss: 0.7446 - val_accuracy: 0.6340 - val_loss: 1.2717\n",
            "Epoch 21/25\n",
            "\u001b[1m20/20\u001b[0m \u001b[32m━━━━━━━━━━━━━━━━━━━━\u001b[0m\u001b[37m\u001b[0m \u001b[1m77s\u001b[0m 4s/step - accuracy: 0.8694 - loss: 0.6106 - val_accuracy: 0.6732 - val_loss: 1.2164\n",
            "Epoch 22/25\n",
            "\u001b[1m20/20\u001b[0m \u001b[32m━━━━━━━━━━━━━━━━━━━━\u001b[0m\u001b[37m\u001b[0m \u001b[1m70s\u001b[0m 4s/step - accuracy: 0.8457 - loss: 0.6613 - val_accuracy: 0.6601 - val_loss: 1.2298\n",
            "Epoch 23/25\n",
            "\u001b[1m20/20\u001b[0m \u001b[32m━━━━━━━━━━━━━━━━━━━━\u001b[0m\u001b[37m\u001b[0m \u001b[1m72s\u001b[0m 4s/step - accuracy: 0.8392 - loss: 0.6197 - val_accuracy: 0.6667 - val_loss: 1.1709\n",
            "Epoch 24/25\n",
            "\u001b[1m20/20\u001b[0m \u001b[32m━━━━━━━━━━━━━━━━━━━━\u001b[0m\u001b[37m\u001b[0m \u001b[1m80s\u001b[0m 3s/step - accuracy: 0.8540 - loss: 0.6282 - val_accuracy: 0.6928 - val_loss: 1.1926\n",
            "Epoch 25/25\n",
            "\u001b[1m20/20\u001b[0m \u001b[32m━━━━━━━━━━━━━━━━━━━━\u001b[0m\u001b[37m\u001b[0m \u001b[1m76s\u001b[0m 4s/step - accuracy: 0.8770 - loss: 0.5759 - val_accuracy: 0.6928 - val_loss: 1.2163\n",
            "\u001b[1m4/4\u001b[0m \u001b[32m━━━━━━━━━━━━━━━━━━━━\u001b[0m\u001b[37m\u001b[0m \u001b[1m10s\u001b[0m 2s/step - accuracy: 0.6486 - loss: 1.2737\n",
            "✅ Test Accuracy: 65.79%\n"
          ]
        },
        {
          "output_type": "display_data",
          "data": {
            "text/plain": [
              "<Figure size 640x480 with 1 Axes>"
            ],
            "image/png": "[encoded data removed]"
          },
          "metadata": {}
        },
        {
          "output_type": "display_data",
          "data": {
            "text/plain": [
              "<Figure size 640x480 with 1 Axes>"
            ],
            "image/png": "[encoded data removed]"
          },
          "metadata": {}
        }
      ]
    }
  ]
}